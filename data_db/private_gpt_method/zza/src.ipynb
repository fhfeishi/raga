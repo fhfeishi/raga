{
 "cells": [
  {
   "cell_type": "code",
   "execution_count": 1,
   "id": "28eaff96",
   "metadata": {},
   "outputs": [
    {
     "name": "stderr",
     "output_type": "stream",
     "text": [
      "22:44:41.567 [INFO    ] private_gpt.settings.settings_loader - Starting application with profiles=['default']\n"
     ]
    },
    {
     "ename": "FileNotFoundError",
     "evalue": "[Errno 2] No such file or directory: 'd:\\\\codespace\\\\fhfeishi\\\\raga\\\\data_db\\\\private_gpt_method\\\\settings.yaml'",
     "output_type": "error",
     "traceback": [
      "\u001b[31m---------------------------------------------------------------------------\u001b[39m",
      "\u001b[31mFileNotFoundError\u001b[39m                         Traceback (most recent call last)",
      "\u001b[36mCell\u001b[39m\u001b[36m \u001b[39m\u001b[32mIn[1]\u001b[39m\u001b[32m, line 2\u001b[39m\n\u001b[32m      1\u001b[39m \u001b[38;5;28;01mfrom\u001b[39;00m\u001b[38;5;250m \u001b[39m\u001b[34;01mpathlib\u001b[39;00m\u001b[38;5;250m \u001b[39m\u001b[38;5;28;01mimport\u001b[39;00m Path\n\u001b[32m----> \u001b[39m\u001b[32m2\u001b[39m \u001b[38;5;28;01mfrom\u001b[39;00m\u001b[38;5;250m \u001b[39m\u001b[34;01mfactory\u001b[39;00m\u001b[38;5;250m \u001b[39m\u001b[38;5;28;01mimport\u001b[39;00m build_default_ingest_service\n\u001b[32m      4\u001b[39m svc = build_default_ingest_service()\n\u001b[32m      5\u001b[39m out = svc.ingest_file(\u001b[33mr\u001b[39m\u001b[33m\"\u001b[39m\u001b[33mD:\u001b[39m\u001b[33m\\\u001b[39m\u001b[33mcodespace\u001b[39m\u001b[33m\\\u001b[39m\u001b[33mfhfeishi\u001b[39m\u001b[33m\\\u001b[39m\u001b[33mraga\u001b[39m\u001b[33m\\\u001b[39m\u001b[33mscripts\u001b[39m\u001b[33m\\\u001b[39m\u001b[33mPatentParser\u001b[39m\u001b[33m\\\u001b[39m\u001b[33mfull.md\u001b[39m\u001b[33m\"\u001b[39m, Path(\u001b[33mr\u001b[39m\u001b[33m\"\u001b[39m\u001b[33mD:\u001b[39m\u001b[33m\\\u001b[39m\u001b[33mcodespace\u001b[39m\u001b[33m\\\u001b[39m\u001b[33mfhfeishi\u001b[39m\u001b[33m\\\u001b[39m\u001b[33mraga\u001b[39m\u001b[33m\\\u001b[39m\u001b[33mscripts\u001b[39m\u001b[33m\\\u001b[39m\u001b[33mPatentParser\u001b[39m\u001b[33m\\\u001b[39m\u001b[33mfull.md\u001b[39m\u001b[33m\"\u001b[39m))\n",
      "\u001b[36mFile \u001b[39m\u001b[32md:\\codespace\\fhfeishi\\raga\\data_db\\private_gpt_method\\factory.py:2\u001b[39m\n\u001b[32m      1\u001b[39m \u001b[38;5;66;03m# factory.py\u001b[39;00m\n\u001b[32m----> \u001b[39m\u001b[32m2\u001b[39m \u001b[38;5;28;01mfrom\u001b[39;00m\u001b[38;5;250m \u001b[39m\u001b[34;01mprivate_gpt\u001b[39;00m\u001b[34;01m.\u001b[39;00m\u001b[34;01mcomponents\u001b[39;00m\u001b[34;01m.\u001b[39;00m\u001b[34;01membedding\u001b[39;00m\u001b[34;01m.\u001b[39;00m\u001b[34;01membedding_component\u001b[39;00m\u001b[38;5;250m \u001b[39m\u001b[38;5;28;01mimport\u001b[39;00m EmbeddingComponent\n\u001b[32m      3\u001b[39m \u001b[38;5;28;01mfrom\u001b[39;00m\u001b[38;5;250m \u001b[39m\u001b[34;01mprivate_gpt\u001b[39;00m\u001b[34;01m.\u001b[39;00m\u001b[34;01mcomponents\u001b[39;00m\u001b[34;01m.\u001b[39;00m\u001b[34;01mllm\u001b[39;00m\u001b[34;01m.\u001b[39;00m\u001b[34;01mllm_component\u001b[39;00m\u001b[38;5;250m \u001b[39m\u001b[38;5;28;01mimport\u001b[39;00m LLMComponent\n\u001b[32m      4\u001b[39m \u001b[38;5;28;01mfrom\u001b[39;00m\u001b[38;5;250m \u001b[39m\u001b[34;01mprivate_gpt\u001b[39;00m\u001b[34;01m.\u001b[39;00m\u001b[34;01mcomponents\u001b[39;00m\u001b[34;01m.\u001b[39;00m\u001b[34;01mnode_store\u001b[39;00m\u001b[34;01m.\u001b[39;00m\u001b[34;01mnode_store_component\u001b[39;00m\u001b[38;5;250m \u001b[39m\u001b[38;5;28;01mimport\u001b[39;00m NodeStoreComponent\n",
      "\u001b[36mFile \u001b[39m\u001b[32md:\\codespace\\fhfeishi\\raga\\data_db\\private_gpt_method\\private_gpt\\components\\embedding\\embedding_component.py:6\u001b[39m\n\u001b[32m      3\u001b[39m \u001b[38;5;28;01mfrom\u001b[39;00m\u001b[38;5;250m \u001b[39m\u001b[34;01minjector\u001b[39;00m\u001b[38;5;250m \u001b[39m\u001b[38;5;28;01mimport\u001b[39;00m inject, singleton\n\u001b[32m      4\u001b[39m \u001b[38;5;28;01mfrom\u001b[39;00m\u001b[38;5;250m \u001b[39m\u001b[34;01mllama_index\u001b[39;00m\u001b[34;01m.\u001b[39;00m\u001b[34;01mcore\u001b[39;00m\u001b[34;01m.\u001b[39;00m\u001b[34;01membeddings\u001b[39;00m\u001b[38;5;250m \u001b[39m\u001b[38;5;28;01mimport\u001b[39;00m BaseEmbedding, MockEmbedding\n\u001b[32m----> \u001b[39m\u001b[32m6\u001b[39m \u001b[38;5;28;01mfrom\u001b[39;00m\u001b[38;5;250m \u001b[39m\u001b[34;01mprivate_gpt\u001b[39;00m\u001b[34;01m.\u001b[39;00m\u001b[34;01mpaths\u001b[39;00m\u001b[38;5;250m \u001b[39m\u001b[38;5;28;01mimport\u001b[39;00m models_cache_path\n\u001b[32m      7\u001b[39m \u001b[38;5;28;01mfrom\u001b[39;00m\u001b[38;5;250m \u001b[39m\u001b[34;01mprivate_gpt\u001b[39;00m\u001b[34;01m.\u001b[39;00m\u001b[34;01msettings\u001b[39;00m\u001b[34;01m.\u001b[39;00m\u001b[34;01msettings\u001b[39;00m\u001b[38;5;250m \u001b[39m\u001b[38;5;28;01mimport\u001b[39;00m Settings\n\u001b[32m      9\u001b[39m logger = logging.getLogger(\u001b[34m__name__\u001b[39m)\n",
      "\u001b[36mFile \u001b[39m\u001b[32md:\\codespace\\fhfeishi\\raga\\data_db\\private_gpt_method\\private_gpt\\paths.py:4\u001b[39m\n\u001b[32m      1\u001b[39m \u001b[38;5;28;01mfrom\u001b[39;00m\u001b[38;5;250m \u001b[39m\u001b[34;01mpathlib\u001b[39;00m\u001b[38;5;250m \u001b[39m\u001b[38;5;28;01mimport\u001b[39;00m Path\n\u001b[32m      3\u001b[39m \u001b[38;5;28;01mfrom\u001b[39;00m\u001b[38;5;250m \u001b[39m\u001b[34;01mprivate_gpt\u001b[39;00m\u001b[34;01m.\u001b[39;00m\u001b[34;01mconstants\u001b[39;00m\u001b[38;5;250m \u001b[39m\u001b[38;5;28;01mimport\u001b[39;00m PROJECT_ROOT_PATH\n\u001b[32m----> \u001b[39m\u001b[32m4\u001b[39m \u001b[38;5;28;01mfrom\u001b[39;00m\u001b[38;5;250m \u001b[39m\u001b[34;01mprivate_gpt\u001b[39;00m\u001b[34;01m.\u001b[39;00m\u001b[34;01msettings\u001b[39;00m\u001b[34;01m.\u001b[39;00m\u001b[34;01msettings\u001b[39;00m\u001b[38;5;250m \u001b[39m\u001b[38;5;28;01mimport\u001b[39;00m settings\n\u001b[32m      7\u001b[39m \u001b[38;5;28;01mdef\u001b[39;00m\u001b[38;5;250m \u001b[39m\u001b[34m_absolute_or_from_project_root\u001b[39m(path: \u001b[38;5;28mstr\u001b[39m) -> Path:\n\u001b[32m      8\u001b[39m     \u001b[38;5;28;01mif\u001b[39;00m path.startswith(\u001b[33m\"\u001b[39m\u001b[33m/\u001b[39m\u001b[33m\"\u001b[39m):\n",
      "\u001b[36mFile \u001b[39m\u001b[32md:\\codespace\\fhfeishi\\raga\\data_db\\private_gpt_method\\private_gpt\\settings\\settings.py:618\u001b[39m\n\u001b[32m    610\u001b[39m     milvus: MilvusSettings | \u001b[38;5;28;01mNone\u001b[39;00m = \u001b[38;5;28;01mNone\u001b[39;00m\n\u001b[32m    613\u001b[39m \u001b[33;03m\"\"\"\u001b[39;00m\n\u001b[32m    614\u001b[39m \u001b[33;03mThis is visible just for DI or testing purposes.\u001b[39;00m\n\u001b[32m    615\u001b[39m \n\u001b[32m    616\u001b[39m \u001b[33;03mUse dependency injection or `settings()` method instead.\u001b[39;00m\n\u001b[32m    617\u001b[39m \u001b[33;03m\"\"\"\u001b[39;00m\n\u001b[32m--> \u001b[39m\u001b[32m618\u001b[39m unsafe_settings = \u001b[43mload_active_settings\u001b[49m\u001b[43m(\u001b[49m\u001b[43m)\u001b[49m\n\u001b[32m    620\u001b[39m \u001b[33;03m\"\"\"\u001b[39;00m\n\u001b[32m    621\u001b[39m \u001b[33;03mThis is visible just for DI or testing purposes.\u001b[39;00m\n\u001b[32m    622\u001b[39m \n\u001b[32m    623\u001b[39m \u001b[33;03mUse dependency injection or `settings()` method instead.\u001b[39;00m\n\u001b[32m    624\u001b[39m \u001b[33;03m\"\"\"\u001b[39;00m\n\u001b[32m    625\u001b[39m unsafe_typed_settings = Settings(**unsafe_settings)\n",
      "\u001b[36mFile \u001b[39m\u001b[32md:\\codespace\\fhfeishi\\raga\\data_db\\private_gpt_method\\private_gpt\\settings\\settings_loader.py:54\u001b[39m, in \u001b[36mload_active_settings\u001b[39m\u001b[34m()\u001b[39m\n\u001b[32m     51\u001b[39m \u001b[38;5;250m\u001b[39m\u001b[33;03m\"\"\"Load active profiles and merge them.\"\"\"\u001b[39;00m\n\u001b[32m     52\u001b[39m logger.info(\u001b[33m\"\u001b[39m\u001b[33mStarting application with profiles=\u001b[39m\u001b[38;5;132;01m%s\u001b[39;00m\u001b[33m\"\u001b[39m, active_profiles)\n\u001b[32m     53\u001b[39m loaded_profiles = [\n\u001b[32m---> \u001b[39m\u001b[32m54\u001b[39m     \u001b[43mload_settings_from_profile\u001b[49m\u001b[43m(\u001b[49m\u001b[43mprofile\u001b[49m\u001b[43m)\u001b[49m \u001b[38;5;28;01mfor\u001b[39;00m profile \u001b[38;5;129;01min\u001b[39;00m active_profiles\n\u001b[32m     55\u001b[39m ]\n\u001b[32m     56\u001b[39m merged: \u001b[38;5;28mdict\u001b[39m[\u001b[38;5;28mstr\u001b[39m, Any] = merge_settings(loaded_profiles)\n\u001b[32m     57\u001b[39m \u001b[38;5;28;01mreturn\u001b[39;00m merged\n",
      "\u001b[36mFile \u001b[39m\u001b[32md:\\codespace\\fhfeishi\\raga\\data_db\\private_gpt_method\\private_gpt\\settings\\settings_loader.py:43\u001b[39m, in \u001b[36mload_settings_from_profile\u001b[39m\u001b[34m(profile)\u001b[39m\n\u001b[32m     40\u001b[39m     profile_file_name = \u001b[33mf\u001b[39m\u001b[33m\"\u001b[39m\u001b[33msettings-\u001b[39m\u001b[38;5;132;01m{\u001b[39;00mprofile\u001b[38;5;132;01m}\u001b[39;00m\u001b[33m.yaml\u001b[39m\u001b[33m\"\u001b[39m\n\u001b[32m     42\u001b[39m path = Path(_settings_folder) / profile_file_name\n\u001b[32m---> \u001b[39m\u001b[32m43\u001b[39m \u001b[38;5;28;01mwith\u001b[39;00m \u001b[43mPath\u001b[49m\u001b[43m(\u001b[49m\u001b[43mpath\u001b[49m\u001b[43m)\u001b[49m\u001b[43m.\u001b[49m\u001b[43mopen\u001b[49m\u001b[43m(\u001b[49m\u001b[33;43m\"\u001b[39;49m\u001b[33;43mr\u001b[39;49m\u001b[33;43m\"\u001b[39;49m\u001b[43m)\u001b[49m \u001b[38;5;28;01mas\u001b[39;00m f:\n\u001b[32m     44\u001b[39m     config = load_yaml_with_envvars(f)\n\u001b[32m     45\u001b[39m \u001b[38;5;28;01mif\u001b[39;00m \u001b[38;5;129;01mnot\u001b[39;00m \u001b[38;5;28misinstance\u001b[39m(config, \u001b[38;5;28mdict\u001b[39m):\n",
      "\u001b[36mFile \u001b[39m\u001b[32md:\\developer\\miniconda\\envs\\langchain\\Lib\\pathlib.py:1013\u001b[39m, in \u001b[36mPath.open\u001b[39m\u001b[34m(self, mode, buffering, encoding, errors, newline)\u001b[39m\n\u001b[32m   1011\u001b[39m \u001b[38;5;28;01mif\u001b[39;00m \u001b[33m\"\u001b[39m\u001b[33mb\u001b[39m\u001b[33m\"\u001b[39m \u001b[38;5;129;01mnot\u001b[39;00m \u001b[38;5;129;01min\u001b[39;00m mode:\n\u001b[32m   1012\u001b[39m     encoding = io.text_encoding(encoding)\n\u001b[32m-> \u001b[39m\u001b[32m1013\u001b[39m \u001b[38;5;28;01mreturn\u001b[39;00m \u001b[43mio\u001b[49m\u001b[43m.\u001b[49m\u001b[43mopen\u001b[49m\u001b[43m(\u001b[49m\u001b[38;5;28;43mself\u001b[39;49m\u001b[43m,\u001b[49m\u001b[43m \u001b[49m\u001b[43mmode\u001b[49m\u001b[43m,\u001b[49m\u001b[43m \u001b[49m\u001b[43mbuffering\u001b[49m\u001b[43m,\u001b[49m\u001b[43m \u001b[49m\u001b[43mencoding\u001b[49m\u001b[43m,\u001b[49m\u001b[43m \u001b[49m\u001b[43merrors\u001b[49m\u001b[43m,\u001b[49m\u001b[43m \u001b[49m\u001b[43mnewline\u001b[49m\u001b[43m)\u001b[49m\n",
      "\u001b[31mFileNotFoundError\u001b[39m: [Errno 2] No such file or directory: 'd:\\\\codespace\\\\fhfeishi\\\\raga\\\\data_db\\\\private_gpt_method\\\\settings.yaml'"
     ]
    }
   ],
   "source": [
    "from pathlib import Path\n",
    "from factory import build_default_ingest_service\n",
    "\n",
    "svc = build_default_ingest_service()\n",
    "out = svc.ingest_file(r\"D:\\codespace\\fhfeishi\\raga\\scripts\\PatentParser\\full.md\", Path(r\"D:\\codespace\\fhfeishi\\raga\\scripts\\PatentParser\\full.md\"))\n",
    "print([x.doc_id for x in out])"
   ]
  },
  {
   "cell_type": "code",
   "execution_count": null,
   "id": "01586054",
   "metadata": {},
   "outputs": [],
   "source": [
    "from pathlib import Path\n",
    "from container import build_injector\n",
    "from service import IngestService\n",
    "\n",
    "injector = build_injector()\n",
    "svc = injector.get(IngestService)\n",
    "svc.bulk_ingest([(\"doc1.pdf\", Path(\"/data/doc1.pdf\")), (\"doc2.md\", Path(\"/data/doc2.md\"))])\n",
    "print(svc.list_ingested())"
   ]
  }
 ],
 "metadata": {
  "kernelspec": {
   "display_name": "langchain",
   "language": "python",
   "name": "python3"
  },
  "language_info": {
   "codemirror_mode": {
    "name": "ipython",
    "version": 3
   },
   "file_extension": ".py",
   "mimetype": "text/x-python",
   "name": "python",
   "nbconvert_exporter": "python",
   "pygments_lexer": "ipython3",
   "version": "3.12.11"
  }
 },
 "nbformat": 4,
 "nbformat_minor": 5
}
