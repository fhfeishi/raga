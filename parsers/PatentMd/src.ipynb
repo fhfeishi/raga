{
 "cells": [
  {
   "cell_type": "code",
   "execution_count": null,
   "metadata": {},
   "outputs": [],
   "source": [
    "# step 0: mineru -> full.md\n",
    "\n",
    "# step_split\n",
    "\n",
    "# step_struct\n",
    "\n",
    "# step_extractor\n",
    "\n",
    "# step_norm\n"
   ]
  },
  {
   "cell_type": "code",
   "execution_count": null,
   "metadata": {},
   "outputs": [],
   "source": [
    "# figs_MetaDict\n",
    "figs_MetaDict = {\n",
    "    \n",
    "    \n",
    "}\n",
    "\n"
   ]
  },
  {
   "cell_type": "code",
   "execution_count": null,
   "metadata": {},
   "outputs": [],
   "source": [
    "# record_MetaDict\n",
    "record_MetaDict = {\n",
    "        \"publ_no\":\"\",          # (10) 申请公布号 or 授权公告号   <公开号>\n",
    "        \"publ_date\":\"\",        # (45) 申请公布日 or 授权公告日\n",
    "        \"is_granted\": bool,    # 是否授权，授权的话才会有专利号\n",
    "        \"patent_no\":\"\",        # 专利号（由申请号生成）          <专利号> if is_granted is Ture\n",
    "        \"apply_no\": '',        # (21) 申请号(不重要)            <申请号>\n",
    "        \"apply_time\": \"\",      # (22) 申请日\n",
    "        \"title\": \"\",           # (54) 专利标题（实用新型/发明 名称）\n",
    "        \"applicants\": \"\",      # (54) 专利权人 申请人\n",
    "        \"address\": \"\",         # \"邮编 地址\"\n",
    "        \"inventors\": \"\",       # (71) 发明人\n",
    "        \"doc_type\": \"\",        # (12) 发明专利申请 、实用新型专利\n",
    "        \"tech_field\": \"\",      # # 技术领域 的正文（不含标题）\n",
    "        \n",
    "        \"root_dir\": \"\",        # 专利目录（绝对路径）\n",
    "        \"pdf_path\": \"\",        # 原始 PDF 的绝对路径\n",
    "        \"fig_list\": {},        # {\"abs_im\": [\"摘要图\", abs_path], \"图1\": [\"描述\", abs_path], ...}\n",
    "}"
   ]
  }
 ],
 "metadata": {
  "kernelspec": {
   "display_name": "rag",
   "language": "python",
   "name": "python3"
  },
  "language_info": {
   "name": "python",
   "version": "3.12.11"
  },
  "orig_nbformat": 4
 },
 "nbformat": 4,
 "nbformat_minor": 2
}
