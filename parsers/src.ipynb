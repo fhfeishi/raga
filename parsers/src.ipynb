{
 "cells": [
  {
   "cell_type": "code",
   "execution_count": null,
   "metadata": {},
   "outputs": [],
   "source": [
    "\n",
    "# step0: patent.md \n",
    "\n",
    "# step1:  split to :  figs_MetaDict.json   full_filtered.md  -split\n",
    "#  文本信息、图片引用 可以嵌入了\n",
    "# -> full_split.md\n",
    "# step2: full_filtered.md -->  struct: # 著录信息  # 权利要求书   # 说明书 \n",
    "#   ---> str\n",
    "# -> full_split_split.md\n",
    "# step3: extractor                     record      claims         specification\n",
    "#                         def record_extractor  claims_extractor  specification_extractor\n",
    "#   --->  norm_(str) \n",
    "#  \n",
    "# --> full_split_split_norm.md\n",
    "# 代码逻辑可能存在复用的可能  code ++\n",
    "\n",
    "\n",
    "# [xxxx] 以开头的段落  去掉[xxxx]\n",
    "# 无关的内容也可以去掉，\n",
    "\n",
    "\n",
    "\n",
    "\n",
    "\n",
    "\n",
    "\n"
   ]
  }
 ],
 "metadata": {
  "language_info": {
   "name": "python"
  },
  "orig_nbformat": 4
 },
 "nbformat": 4,
 "nbformat_minor": 2
}
